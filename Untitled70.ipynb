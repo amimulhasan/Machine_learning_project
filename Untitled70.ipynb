{
  "nbformat": 4,
  "nbformat_minor": 0,
  "metadata": {
    "colab": {
      "provenance": [],
      "authorship_tag": "ABX9TyNmOmt8CXtQj8QAmnpC53x+",
      "include_colab_link": true
    },
    "kernelspec": {
      "name": "python3",
      "display_name": "Python 3"
    },
    "language_info": {
      "name": "python"
    }
  },
  "cells": [
    {
      "cell_type": "markdown",
      "metadata": {
        "id": "view-in-github",
        "colab_type": "text"
      },
      "source": [
        "<a href=\"https://colab.research.google.com/github/amimulhasan/Machine_learning_project/blob/main/Untitled70.ipynb\" target=\"_parent\"><img src=\"https://colab.research.google.com/assets/colab-badge.svg\" alt=\"Open In Colab\"/></a>"
      ]
    },
    {
      "cell_type": "code",
      "execution_count": null,
      "metadata": {
        "colab": {
          "base_uri": "https://localhost:8080/"
        },
        "id": "KRtp9_RfKOjw",
        "outputId": "505a594f-f684-4be9-c355-bb493d63169d"
      },
      "outputs": [
        {
          "output_type": "stream",
          "name": "stdout",
          "text": [
            "Accuracy: 0.5714\n",
            "Jaccard Score: 0.2326\n",
            "\n",
            "Classification Report:\n",
            "               precision    recall  f1-score   support\n",
            "\n",
            "           0       0.85      0.56      0.67        61\n",
            "           1       0.27      0.62      0.38        16\n",
            "\n",
            "    accuracy                           0.57        77\n",
            "   macro avg       0.56      0.59      0.53        77\n",
            "weighted avg       0.73      0.57      0.61        77\n",
            "\n"
          ]
        }
      ],
      "source": [
        "import pandas as pd\n",
        "from sklearn.model_selection import train_test_split\n",
        "from sklearn.preprocessing import OneHotEncoder, StandardScaler, LabelEncoder\n",
        "from sklearn.pipeline import Pipeline\n",
        "from sklearn.compose import ColumnTransformer\n",
        "from sklearn.linear_model import LogisticRegression\n",
        "from sklearn.metrics import accuracy_score, classification_report, jaccard_score\n",
        "\n",
        "# Load dataset\n",
        "file_path = \"/content/onik.csv\"\n",
        "df = pd.read_csv(file_path)\n",
        "\n",
        "# Define features and target variable\n",
        "X = df.drop(columns=['Heatstroke'])  # Features\n",
        "y = df['Heatstroke']  # Target variable\n",
        "\n",
        "# Identify categorical and numerical columns\n",
        "categorical_cols = ['Age_Category', 'Gender', 'Occupation', 'Home_Type_Teenshed_Building']\n",
        "numerical_cols = ['Heat_exhaustion', 'Dehydration', 'Respiratory_problems', 'Skin_rashes', 'Diarrhea', 'LST']\n",
        "\n",
        "# Convert categorical variables to string (if necessary)\n",
        "df[categorical_cols] = df[categorical_cols].astype(str)\n",
        "\n",
        "# Label encode the target variable (if necessary)\n",
        "le = LabelEncoder()\n",
        "y = le.fit_transform(y)\n",
        "\n",
        "# Preprocessing: One-hot encoding for categorical, scaling for numerical\n",
        "preprocessor = ColumnTransformer([\n",
        "    ('cat', OneHotEncoder(handle_unknown='ignore'), categorical_cols),\n",
        "    ('num', StandardScaler(), numerical_cols)\n",
        "])\n",
        "\n",
        "# Define model pipeline\n",
        "model = Pipeline([\n",
        "    ('preprocessor', preprocessor),\n",
        "    ('classifier', LogisticRegression(class_weight='balanced', solver='liblinear', C=1.0))\n",
        "])\n",
        "\n",
        "# Split data into train and test sets\n",
        "X_train, X_test, y_train, y_test = train_test_split(X, y, test_size=0.2, random_state=42, stratify=y)\n",
        "\n",
        "# Train the model\n",
        "model.fit(X_train, y_train)\n",
        "\n",
        "# Make predictions\n",
        "y_pred = model.predict(X_test)\n",
        "\n",
        "# Evaluate performance\n",
        "accuracy = accuracy_score(y_test, y_pred)\n",
        "jaccard = jaccard_score(y_test, y_pred)\n",
        "\n",
        "print(f\"Accuracy: {accuracy:.4f}\")\n",
        "print(f\"Jaccard Score: {jaccard:.4f}\")\n",
        "print(\"\\nClassification Report:\\n\", classification_report(y_test, y_pred))\n"
      ]
    }
  ]
}