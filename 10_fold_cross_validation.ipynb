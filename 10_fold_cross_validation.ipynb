{
  "nbformat": 4,
  "nbformat_minor": 0,
  "metadata": {
    "colab": {
      "provenance": [],
      "authorship_tag": "ABX9TyO1/dI6rtCIeTQQTRKlLAVl",
      "include_colab_link": true
    },
    "kernelspec": {
      "name": "python3",
      "display_name": "Python 3"
    },
    "language_info": {
      "name": "python"
    }
  },
  "cells": [
    {
      "cell_type": "markdown",
      "metadata": {
        "id": "view-in-github",
        "colab_type": "text"
      },
      "source": [
        "<a href=\"https://colab.research.google.com/github/amimulhasan/Machine_learning_project/blob/main/10_fold_cross_validation.ipynb\" target=\"_parent\"><img src=\"https://colab.research.google.com/assets/colab-badge.svg\" alt=\"Open In Colab\"/></a>"
      ]
    },
    {
      "cell_type": "code",
      "execution_count": null,
      "metadata": {
        "id": "rRld-2hsatKv"
      },
      "outputs": [],
      "source": [
        "from sklearn.model_selection import KFold\n",
        "from sklearn.metrics import accuracy_score, precision_score, recall_score, f1_score\n",
        "import numpy as np\n",
        "\n",
        "# Define KFold for 10 splits\n",
        "kf = KFold(n_splits=10, shuffle=True, random_state=42)\n",
        "\n",
        "# Initialize lists to store metrics\n",
        "accuracies = []\n",
        "precisions = []\n",
        "recalls = []\n",
        "f1s = []\n",
        "\n",
        "# Perform 10-fold cross-validation\n",
        "for train_index, val_index in kf.split(X):\n",
        "    # Split the data into training and validation sets\n",
        "    X_train_fold, X_val_fold = X[train_index], X[val_index]\n",
        "    y_train_fold, y_val_fold = y[train_index], y[val_index]\n",
        "\n",
        "    # Build the model (reset the model for each fold)\n",
        "    model = build_hybrid_model()\n",
        "    model.compile(optimizer='adam', loss='sparse_categorical_crossentropy', metrics=['accuracy'])\n",
        "\n",
        "    # Train the model on the current fold\n",
        "    model.fit(X_train_fold, y_train_fold, epochs=10, batch_size=32, validation_data=(X_val_fold, y_val_fold), verbose=0)\n",
        "\n",
        "    # Predict on the validation set\n",
        "    y_pred = model.predict(X_val_fold)\n",
        "    y_pred_class = np.argmax(y_pred, axis=1)  # For multi-class classification\n",
        "\n",
        "    # Calculate metrics for the current fold\n",
        "    accuracy = accuracy_score(y_val_fold, y_pred_class)\n",
        "    precision = precision_score(y_val_fold, y_pred_class, average='weighted')\n",
        "    recall = recall_score(y_val_fold, y_pred_class, average='weighted')\n",
        "    f1 = f1_score(y_val_fold, y_pred_class, average='weighted')\n",
        "\n",
        "    # Append the metrics to the lists\n",
        "    accuracies.append(accuracy)\n",
        "    precisions.append(precision)\n",
        "    recalls.append(recall)\n",
        "    f1s.append(f1)\n",
        "\n",
        "# Calculate the mean of each metric\n",
        "mean_accuracy = np.mean(accuracies)\n",
        "mean_precision = np.mean(precisions)\n",
        "mean_recall = np.mean(recalls)\n",
        "mean_f1 = np.mean(f1s)\n",
        "\n",
        "# Print the results\n",
        "print(f\"Mean Accuracy: {mean_accuracy}\")\n",
        "print(f\"Mean Precision: {mean_precision}\")\n",
        "print(f\"Mean Recall: {mean_recall}\")\n",
        "print(f\"Mean F1 Score: {mean_f1}\")\n"
      ]
    }
  ]
}