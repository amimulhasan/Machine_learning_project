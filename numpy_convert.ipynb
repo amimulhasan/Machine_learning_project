{
  "nbformat": 4,
  "nbformat_minor": 0,
  "metadata": {
    "colab": {
      "provenance": [],
      "gpuType": "T4",
      "authorship_tag": "ABX9TyPZl5BJmCCoOPz1T/lxjiYL",
      "include_colab_link": true
    },
    "kernelspec": {
      "name": "python3",
      "display_name": "Python 3"
    },
    "language_info": {
      "name": "python"
    },
    "accelerator": "GPU"
  },
  "cells": [
    {
      "cell_type": "markdown",
      "metadata": {
        "id": "view-in-github",
        "colab_type": "text"
      },
      "source": [
        "<a href=\"https://colab.research.google.com/github/amimulhasan/Machine_learning_project/blob/main/numpy_convert.ipynb\" target=\"_parent\"><img src=\"https://colab.research.google.com/assets/colab-badge.svg\" alt=\"Open In Colab\"/></a>"
      ]
    },
    {
      "cell_type": "code",
      "execution_count": 1,
      "metadata": {
        "id": "vWZ8IAKTLMh9"
      },
      "outputs": [],
      "source": [
        "!mkdir -p ~/.kaggle\n",
        "!cp kaggle.json ~/.kaggle/\n",
        "!chmod 600 ~/.kaggle/kaggle.json"
      ]
    },
    {
      "cell_type": "code",
      "source": [
        "!kaggle datasets download rm1000/brain-tumor-mri-scans"
      ],
      "metadata": {
        "id": "T4AO0ZMXLU3m",
        "colab": {
          "base_uri": "https://localhost:8080/"
        },
        "outputId": "de7a8324-56d4-4b81-8d11-ab3c86a68c5d"
      },
      "execution_count": 2,
      "outputs": [
        {
          "output_type": "stream",
          "name": "stdout",
          "text": [
            "Dataset URL: https://www.kaggle.com/datasets/rm1000/brain-tumor-mri-scans\n",
            "License(s): CC0-1.0\n",
            "Downloading brain-tumor-mri-scans.zip to /content\n",
            " 55% 129M/236M [00:00<00:00, 1.34GB/s]\n",
            "100% 236M/236M [00:00<00:00, 810MB/s] \n"
          ]
        }
      ]
    },
    {
      "cell_type": "code",
      "source": [
        "# from google.colab import drive\n",
        "# drive.mount('/content/drive')"
      ],
      "metadata": {
        "id": "ko8yeXCXLU9a"
      },
      "execution_count": null,
      "outputs": []
    },
    {
      "cell_type": "code",
      "source": [
        "import zipfile\n",
        "\n",
        "zip_path = '/content/brain-tumor-mri-scans.zip'\n",
        "extract_to = 'Tumor_brain_cancer'\n",
        "\n",
        "with zipfile.ZipFile(zip_path, 'r') as zip_ref:\n",
        "    zip_ref.extractall(extract_to)\n",
        "\n",
        "print(\"Unzipping completed!\")"
      ],
      "metadata": {
        "colab": {
          "base_uri": "https://localhost:8080/"
        },
        "id": "-HfCz51SLU6y",
        "outputId": "b42282e1-3fe2-4918-9cae-f39cc4a8c86d"
      },
      "execution_count": 4,
      "outputs": [
        {
          "output_type": "stream",
          "name": "stdout",
          "text": [
            "Unzipping completed!\n"
          ]
        }
      ]
    },
    {
      "cell_type": "code",
      "source": [],
      "metadata": {
        "id": "1NBsOmhYLVAS"
      },
      "execution_count": null,
      "outputs": []
    },
    {
      "cell_type": "code",
      "source": [],
      "metadata": {
        "id": "QvPPRNrZLVDD"
      },
      "execution_count": null,
      "outputs": []
    },
    {
      "cell_type": "code",
      "source": [
        "import numpy as np\n",
        "from PIL import Image\n",
        "import os\n",
        "\n",
        "# ------------------------\n",
        "# SETTINGS\n",
        "# ------------------------\n",
        "dataset_dir = \"/content/Tumor_brain_cancer\"  # Update path as needed\n",
        "img_size = (128, 128)\n",
        "\n",
        "X = []\n",
        "y = []\n",
        "\n",
        "# --- Get all class folders (e.g., 4 classes) ---\n",
        "class_names = sorted([d for d in os.listdir(dataset_dir) if os.path.isdir(os.path.join(dataset_dir, d))])\n",
        "print(\"✅ Classes found:\", class_names)\n",
        "\n",
        "if len(class_names) != 4:\n",
        "    raise ValueError(f\"Expected exactly 4 classes, found {len(class_names)}: {class_names}\")\n",
        "\n",
        "# --- Walk through each class and collect images ---\n",
        "for idx, class_name in enumerate(class_names):\n",
        "    class_path = os.path.join(dataset_dir, class_name)\n",
        "    print(f\"🔍 Processing class '{class_name}' ({idx})\")\n",
        "\n",
        "    for root, _, files in os.walk(class_path):\n",
        "        for file in files:\n",
        "            file_path = os.path.join(root, file)\n",
        "            try:\n",
        "                img = Image.open(file_path).convert('RGB')\n",
        "                img = img.resize(img_size)\n",
        "                img_array = np.array(img) / 255.0  # Normalize\n",
        "                X.append(img_array)\n",
        "                y.append(idx)\n",
        "            except Exception as e:\n",
        "                print(f\"⚠️ Failed to process {file_path}: {e}\")\n",
        "\n",
        "# ------------------------\n",
        "# CONVERT TO NUMPY ARRAYS\n",
        "# ------------------------\n",
        "X = np.array(X, dtype=np.float32)\n",
        "y = np.array(y, dtype=np.int32)\n",
        "\n",
        "print(f\"\\n✅ Dataset loaded successfully:\")\n",
        "print(f\"   X shape = {X.shape}\")\n",
        "print(f\"   y shape = {y.shape}\")\n",
        "print(f\"   Class mapping = {dict(enumerate(class_names))}\")\n",
        "\n",
        "# ------------------------\n",
        "# SAVE AS .NPY FILES\n",
        "# ------------------------\n",
        "np.save(\"X.npy\", X)\n",
        "np.save(\"y.npy\", y)\n",
        "print(\"✅ Saved X.npy and y.npy to current working directory.\")\n"
      ],
      "metadata": {
        "colab": {
          "base_uri": "https://localhost:8080/"
        },
        "id": "4nxjN9ll_ow3",
        "outputId": "da2ed945-2baa-490b-f84a-a87ebf7aa3b7"
      },
      "execution_count": 9,
      "outputs": [
        {
          "output_type": "stream",
          "name": "stdout",
          "text": [
            "✅ Classes found: ['glioma', 'healthy', 'meningioma', 'pituitary']\n",
            "🔍 Processing class 'glioma' (0)\n",
            "🔍 Processing class 'healthy' (1)\n",
            "🔍 Processing class 'meningioma' (2)\n",
            "🔍 Processing class 'pituitary' (3)\n",
            "\n",
            "✅ Dataset loaded successfully:\n",
            "   X shape = (7023, 128, 128, 3)\n",
            "   y shape = (7023,)\n",
            "   Class mapping = {0: 'glioma', 1: 'healthy', 2: 'meningioma', 3: 'pituitary'}\n",
            "✅ Saved X.npy and y.npy to current working directory.\n"
          ]
        }
      ]
    }
  ]
}