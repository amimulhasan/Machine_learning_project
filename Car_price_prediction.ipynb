{
 "cells": [
  {
   "cell_type": "markdown",
   "id": "e2fe3612",
   "metadata": {},
   "source": [
    "# Using LinearRegression and Lasso model"
   ]
  },
  {
   "cell_type": "code",
   "execution_count": 2,
   "id": "ef90b8b7",
   "metadata": {},
   "outputs": [],
   "source": [
    "import pandas as pd\n",
    "import numpy as np\n",
    "import matplotlib.pyplot as plt\n",
    "from sklearn.model_selection import train_test_split\n",
    "from sklearn.linear_model import LinearRegression\n",
    "from sklearn.linear_model import Lasso\n",
    "from sklearn import metrics"
   ]
  },
  {
   "cell_type": "code",
   "execution_count": 3,
   "id": "cc50bf2c",
   "metadata": {},
   "outputs": [
    {
     "data": {
      "text/html": [
       "<div>\n",
       "<style scoped>\n",
       "    .dataframe tbody tr th:only-of-type {\n",
       "        vertical-align: middle;\n",
       "    }\n",
       "\n",
       "    .dataframe tbody tr th {\n",
       "        vertical-align: top;\n",
       "    }\n",
       "\n",
       "    .dataframe thead th {\n",
       "        text-align: right;\n",
       "    }\n",
       "</style>\n",
       "<table border=\"1\" class=\"dataframe\">\n",
       "  <thead>\n",
       "    <tr style=\"text-align: right;\">\n",
       "      <th></th>\n",
       "      <th>Car_Name</th>\n",
       "      <th>Year</th>\n",
       "      <th>Selling_Price</th>\n",
       "      <th>Present_Price</th>\n",
       "      <th>Kms_Driven</th>\n",
       "      <th>Fuel_Type</th>\n",
       "      <th>Seller_Type</th>\n",
       "      <th>Transmission</th>\n",
       "      <th>Owner</th>\n",
       "    </tr>\n",
       "  </thead>\n",
       "  <tbody>\n",
       "    <tr>\n",
       "      <th>0</th>\n",
       "      <td>ritz</td>\n",
       "      <td>2014</td>\n",
       "      <td>3.35</td>\n",
       "      <td>5.59</td>\n",
       "      <td>27000</td>\n",
       "      <td>Petrol</td>\n",
       "      <td>Dealer</td>\n",
       "      <td>Manual</td>\n",
       "      <td>0</td>\n",
       "    </tr>\n",
       "    <tr>\n",
       "      <th>1</th>\n",
       "      <td>sx4</td>\n",
       "      <td>2013</td>\n",
       "      <td>4.75</td>\n",
       "      <td>9.54</td>\n",
       "      <td>43000</td>\n",
       "      <td>Diesel</td>\n",
       "      <td>Dealer</td>\n",
       "      <td>Manual</td>\n",
       "      <td>0</td>\n",
       "    </tr>\n",
       "    <tr>\n",
       "      <th>2</th>\n",
       "      <td>ciaz</td>\n",
       "      <td>2017</td>\n",
       "      <td>7.25</td>\n",
       "      <td>9.85</td>\n",
       "      <td>6900</td>\n",
       "      <td>Petrol</td>\n",
       "      <td>Dealer</td>\n",
       "      <td>Manual</td>\n",
       "      <td>0</td>\n",
       "    </tr>\n",
       "    <tr>\n",
       "      <th>3</th>\n",
       "      <td>wagon r</td>\n",
       "      <td>2011</td>\n",
       "      <td>2.85</td>\n",
       "      <td>4.15</td>\n",
       "      <td>5200</td>\n",
       "      <td>Petrol</td>\n",
       "      <td>Dealer</td>\n",
       "      <td>Manual</td>\n",
       "      <td>0</td>\n",
       "    </tr>\n",
       "    <tr>\n",
       "      <th>4</th>\n",
       "      <td>swift</td>\n",
       "      <td>2014</td>\n",
       "      <td>4.60</td>\n",
       "      <td>6.87</td>\n",
       "      <td>42450</td>\n",
       "      <td>Diesel</td>\n",
       "      <td>Dealer</td>\n",
       "      <td>Manual</td>\n",
       "      <td>0</td>\n",
       "    </tr>\n",
       "    <tr>\n",
       "      <th>...</th>\n",
       "      <td>...</td>\n",
       "      <td>...</td>\n",
       "      <td>...</td>\n",
       "      <td>...</td>\n",
       "      <td>...</td>\n",
       "      <td>...</td>\n",
       "      <td>...</td>\n",
       "      <td>...</td>\n",
       "      <td>...</td>\n",
       "    </tr>\n",
       "    <tr>\n",
       "      <th>296</th>\n",
       "      <td>city</td>\n",
       "      <td>2016</td>\n",
       "      <td>9.50</td>\n",
       "      <td>11.60</td>\n",
       "      <td>33988</td>\n",
       "      <td>Diesel</td>\n",
       "      <td>Dealer</td>\n",
       "      <td>Manual</td>\n",
       "      <td>0</td>\n",
       "    </tr>\n",
       "    <tr>\n",
       "      <th>297</th>\n",
       "      <td>brio</td>\n",
       "      <td>2015</td>\n",
       "      <td>4.00</td>\n",
       "      <td>5.90</td>\n",
       "      <td>60000</td>\n",
       "      <td>Petrol</td>\n",
       "      <td>Dealer</td>\n",
       "      <td>Manual</td>\n",
       "      <td>0</td>\n",
       "    </tr>\n",
       "    <tr>\n",
       "      <th>298</th>\n",
       "      <td>city</td>\n",
       "      <td>2009</td>\n",
       "      <td>3.35</td>\n",
       "      <td>11.00</td>\n",
       "      <td>87934</td>\n",
       "      <td>Petrol</td>\n",
       "      <td>Dealer</td>\n",
       "      <td>Manual</td>\n",
       "      <td>0</td>\n",
       "    </tr>\n",
       "    <tr>\n",
       "      <th>299</th>\n",
       "      <td>city</td>\n",
       "      <td>2017</td>\n",
       "      <td>11.50</td>\n",
       "      <td>12.50</td>\n",
       "      <td>9000</td>\n",
       "      <td>Diesel</td>\n",
       "      <td>Dealer</td>\n",
       "      <td>Manual</td>\n",
       "      <td>0</td>\n",
       "    </tr>\n",
       "    <tr>\n",
       "      <th>300</th>\n",
       "      <td>brio</td>\n",
       "      <td>2016</td>\n",
       "      <td>5.30</td>\n",
       "      <td>5.90</td>\n",
       "      <td>5464</td>\n",
       "      <td>Petrol</td>\n",
       "      <td>Dealer</td>\n",
       "      <td>Manual</td>\n",
       "      <td>0</td>\n",
       "    </tr>\n",
       "  </tbody>\n",
       "</table>\n",
       "<p>301 rows × 9 columns</p>\n",
       "</div>"
      ],
      "text/plain": [
       "    Car_Name  Year  Selling_Price  Present_Price  Kms_Driven Fuel_Type  \\\n",
       "0       ritz  2014           3.35           5.59       27000    Petrol   \n",
       "1        sx4  2013           4.75           9.54       43000    Diesel   \n",
       "2       ciaz  2017           7.25           9.85        6900    Petrol   \n",
       "3    wagon r  2011           2.85           4.15        5200    Petrol   \n",
       "4      swift  2014           4.60           6.87       42450    Diesel   \n",
       "..       ...   ...            ...            ...         ...       ...   \n",
       "296     city  2016           9.50          11.60       33988    Diesel   \n",
       "297     brio  2015           4.00           5.90       60000    Petrol   \n",
       "298     city  2009           3.35          11.00       87934    Petrol   \n",
       "299     city  2017          11.50          12.50        9000    Diesel   \n",
       "300     brio  2016           5.30           5.90        5464    Petrol   \n",
       "\n",
       "    Seller_Type Transmission  Owner  \n",
       "0        Dealer       Manual      0  \n",
       "1        Dealer       Manual      0  \n",
       "2        Dealer       Manual      0  \n",
       "3        Dealer       Manual      0  \n",
       "4        Dealer       Manual      0  \n",
       "..          ...          ...    ...  \n",
       "296      Dealer       Manual      0  \n",
       "297      Dealer       Manual      0  \n",
       "298      Dealer       Manual      0  \n",
       "299      Dealer       Manual      0  \n",
       "300      Dealer       Manual      0  \n",
       "\n",
       "[301 rows x 9 columns]"
      ]
     },
     "execution_count": 3,
     "metadata": {},
     "output_type": "execute_result"
    }
   ],
   "source": [
    "df=pd.read_csv(\"C:\\\\Users\\\\ASUS\\\\Downloads\\\\archive (2)\\\\car data.csv\")\n",
    "df"
   ]
  },
  {
   "cell_type": "code",
   "execution_count": 4,
   "id": "82e71100",
   "metadata": {},
   "outputs": [
    {
     "data": {
      "text/plain": [
       "(301, 9)"
      ]
     },
     "execution_count": 4,
     "metadata": {},
     "output_type": "execute_result"
    }
   ],
   "source": [
    "df.shape"
   ]
  },
  {
   "cell_type": "code",
   "execution_count": 5,
   "id": "9fe0ecac",
   "metadata": {},
   "outputs": [
    {
     "data": {
      "text/html": [
       "<div>\n",
       "<style scoped>\n",
       "    .dataframe tbody tr th:only-of-type {\n",
       "        vertical-align: middle;\n",
       "    }\n",
       "\n",
       "    .dataframe tbody tr th {\n",
       "        vertical-align: top;\n",
       "    }\n",
       "\n",
       "    .dataframe thead th {\n",
       "        text-align: right;\n",
       "    }\n",
       "</style>\n",
       "<table border=\"1\" class=\"dataframe\">\n",
       "  <thead>\n",
       "    <tr style=\"text-align: right;\">\n",
       "      <th></th>\n",
       "      <th>Year</th>\n",
       "      <th>Selling_Price</th>\n",
       "      <th>Present_Price</th>\n",
       "      <th>Kms_Driven</th>\n",
       "      <th>Owner</th>\n",
       "    </tr>\n",
       "  </thead>\n",
       "  <tbody>\n",
       "    <tr>\n",
       "      <th>count</th>\n",
       "      <td>301.000000</td>\n",
       "      <td>301.000000</td>\n",
       "      <td>301.000000</td>\n",
       "      <td>301.000000</td>\n",
       "      <td>301.000000</td>\n",
       "    </tr>\n",
       "    <tr>\n",
       "      <th>mean</th>\n",
       "      <td>2013.627907</td>\n",
       "      <td>4.661296</td>\n",
       "      <td>7.628472</td>\n",
       "      <td>36947.205980</td>\n",
       "      <td>0.043189</td>\n",
       "    </tr>\n",
       "    <tr>\n",
       "      <th>std</th>\n",
       "      <td>2.891554</td>\n",
       "      <td>5.082812</td>\n",
       "      <td>8.644115</td>\n",
       "      <td>38886.883882</td>\n",
       "      <td>0.247915</td>\n",
       "    </tr>\n",
       "    <tr>\n",
       "      <th>min</th>\n",
       "      <td>2003.000000</td>\n",
       "      <td>0.100000</td>\n",
       "      <td>0.320000</td>\n",
       "      <td>500.000000</td>\n",
       "      <td>0.000000</td>\n",
       "    </tr>\n",
       "    <tr>\n",
       "      <th>25%</th>\n",
       "      <td>2012.000000</td>\n",
       "      <td>0.900000</td>\n",
       "      <td>1.200000</td>\n",
       "      <td>15000.000000</td>\n",
       "      <td>0.000000</td>\n",
       "    </tr>\n",
       "    <tr>\n",
       "      <th>50%</th>\n",
       "      <td>2014.000000</td>\n",
       "      <td>3.600000</td>\n",
       "      <td>6.400000</td>\n",
       "      <td>32000.000000</td>\n",
       "      <td>0.000000</td>\n",
       "    </tr>\n",
       "    <tr>\n",
       "      <th>75%</th>\n",
       "      <td>2016.000000</td>\n",
       "      <td>6.000000</td>\n",
       "      <td>9.900000</td>\n",
       "      <td>48767.000000</td>\n",
       "      <td>0.000000</td>\n",
       "    </tr>\n",
       "    <tr>\n",
       "      <th>max</th>\n",
       "      <td>2018.000000</td>\n",
       "      <td>35.000000</td>\n",
       "      <td>92.600000</td>\n",
       "      <td>500000.000000</td>\n",
       "      <td>3.000000</td>\n",
       "    </tr>\n",
       "  </tbody>\n",
       "</table>\n",
       "</div>"
      ],
      "text/plain": [
       "              Year  Selling_Price  Present_Price     Kms_Driven       Owner\n",
       "count   301.000000     301.000000     301.000000     301.000000  301.000000\n",
       "mean   2013.627907       4.661296       7.628472   36947.205980    0.043189\n",
       "std       2.891554       5.082812       8.644115   38886.883882    0.247915\n",
       "min    2003.000000       0.100000       0.320000     500.000000    0.000000\n",
       "25%    2012.000000       0.900000       1.200000   15000.000000    0.000000\n",
       "50%    2014.000000       3.600000       6.400000   32000.000000    0.000000\n",
       "75%    2016.000000       6.000000       9.900000   48767.000000    0.000000\n",
       "max    2018.000000      35.000000      92.600000  500000.000000    3.000000"
      ]
     },
     "execution_count": 5,
     "metadata": {},
     "output_type": "execute_result"
    }
   ],
   "source": [
    "df.describe()"
   ]
  },
  {
   "cell_type": "code",
   "execution_count": 6,
   "id": "05d47b1d",
   "metadata": {},
   "outputs": [
    {
     "name": "stdout",
     "output_type": "stream",
     "text": [
      "<class 'pandas.core.frame.DataFrame'>\n",
      "RangeIndex: 301 entries, 0 to 300\n",
      "Data columns (total 9 columns):\n",
      " #   Column         Non-Null Count  Dtype  \n",
      "---  ------         --------------  -----  \n",
      " 0   Car_Name       301 non-null    object \n",
      " 1   Year           301 non-null    int64  \n",
      " 2   Selling_Price  301 non-null    float64\n",
      " 3   Present_Price  301 non-null    float64\n",
      " 4   Kms_Driven     301 non-null    int64  \n",
      " 5   Fuel_Type      301 non-null    object \n",
      " 6   Seller_Type    301 non-null    object \n",
      " 7   Transmission   301 non-null    object \n",
      " 8   Owner          301 non-null    int64  \n",
      "dtypes: float64(2), int64(3), object(4)\n",
      "memory usage: 21.3+ KB\n"
     ]
    }
   ],
   "source": [
    "df.info()"
   ]
  },
  {
   "cell_type": "code",
   "execution_count": 7,
   "id": "99d61ebb",
   "metadata": {},
   "outputs": [
    {
     "data": {
      "text/plain": [
       "Car_Name         0\n",
       "Year             0\n",
       "Selling_Price    0\n",
       "Present_Price    0\n",
       "Kms_Driven       0\n",
       "Fuel_Type        0\n",
       "Seller_Type      0\n",
       "Transmission     0\n",
       "Owner            0\n",
       "dtype: int64"
      ]
     },
     "execution_count": 7,
     "metadata": {},
     "output_type": "execute_result"
    }
   ],
   "source": [
    "df.isnull().sum()"
   ]
  },
  {
   "cell_type": "code",
   "execution_count": 8,
   "id": "0f54cdc4",
   "metadata": {},
   "outputs": [
    {
     "data": {
      "text/plain": [
       "Petrol    239\n",
       "Diesel     60\n",
       "CNG         2\n",
       "Name: Fuel_Type, dtype: int64"
      ]
     },
     "execution_count": 8,
     "metadata": {},
     "output_type": "execute_result"
    }
   ],
   "source": [
    "df['Fuel_Type'].value_counts()"
   ]
  },
  {
   "cell_type": "code",
   "execution_count": 9,
   "id": "c77680d0",
   "metadata": {},
   "outputs": [
    {
     "data": {
      "text/plain": [
       "Dealer        195\n",
       "Individual    106\n",
       "Name: Seller_Type, dtype: int64"
      ]
     },
     "execution_count": 9,
     "metadata": {},
     "output_type": "execute_result"
    }
   ],
   "source": [
    "df.Seller_Type.value_counts()"
   ]
  },
  {
   "cell_type": "code",
   "execution_count": 10,
   "id": "89e66733",
   "metadata": {},
   "outputs": [
    {
     "data": {
      "text/plain": [
       "Manual       261\n",
       "Automatic     40\n",
       "Name: Transmission, dtype: int64"
      ]
     },
     "execution_count": 10,
     "metadata": {},
     "output_type": "execute_result"
    }
   ],
   "source": [
    "df.Transmission.value_counts()"
   ]
  },
  {
   "cell_type": "code",
   "execution_count": 15,
   "id": "7931e8bd",
   "metadata": {},
   "outputs": [],
   "source": [
    "df.replace({'Transmission':{'Manual':0,'Automatic':1},'Seller_Type':{'Dealer':0,'Individual':1},'Fuel_Type':{'Petrol':0,'Diesel':1,'CNG':2}},inplace=True)"
   ]
  },
  {
   "cell_type": "code",
   "execution_count": 16,
   "id": "9e18526e",
   "metadata": {},
   "outputs": [
    {
     "data": {
      "text/html": [
       "<div>\n",
       "<style scoped>\n",
       "    .dataframe tbody tr th:only-of-type {\n",
       "        vertical-align: middle;\n",
       "    }\n",
       "\n",
       "    .dataframe tbody tr th {\n",
       "        vertical-align: top;\n",
       "    }\n",
       "\n",
       "    .dataframe thead th {\n",
       "        text-align: right;\n",
       "    }\n",
       "</style>\n",
       "<table border=\"1\" class=\"dataframe\">\n",
       "  <thead>\n",
       "    <tr style=\"text-align: right;\">\n",
       "      <th></th>\n",
       "      <th>Car_Name</th>\n",
       "      <th>Year</th>\n",
       "      <th>Selling_Price</th>\n",
       "      <th>Present_Price</th>\n",
       "      <th>Kms_Driven</th>\n",
       "      <th>Fuel_Type</th>\n",
       "      <th>Seller_Type</th>\n",
       "      <th>Transmission</th>\n",
       "      <th>Owner</th>\n",
       "    </tr>\n",
       "  </thead>\n",
       "  <tbody>\n",
       "    <tr>\n",
       "      <th>0</th>\n",
       "      <td>ritz</td>\n",
       "      <td>2014</td>\n",
       "      <td>3.35</td>\n",
       "      <td>5.59</td>\n",
       "      <td>27000</td>\n",
       "      <td>0</td>\n",
       "      <td>0</td>\n",
       "      <td>0</td>\n",
       "      <td>0</td>\n",
       "    </tr>\n",
       "    <tr>\n",
       "      <th>1</th>\n",
       "      <td>sx4</td>\n",
       "      <td>2013</td>\n",
       "      <td>4.75</td>\n",
       "      <td>9.54</td>\n",
       "      <td>43000</td>\n",
       "      <td>1</td>\n",
       "      <td>0</td>\n",
       "      <td>0</td>\n",
       "      <td>0</td>\n",
       "    </tr>\n",
       "    <tr>\n",
       "      <th>2</th>\n",
       "      <td>ciaz</td>\n",
       "      <td>2017</td>\n",
       "      <td>7.25</td>\n",
       "      <td>9.85</td>\n",
       "      <td>6900</td>\n",
       "      <td>0</td>\n",
       "      <td>0</td>\n",
       "      <td>0</td>\n",
       "      <td>0</td>\n",
       "    </tr>\n",
       "    <tr>\n",
       "      <th>3</th>\n",
       "      <td>wagon r</td>\n",
       "      <td>2011</td>\n",
       "      <td>2.85</td>\n",
       "      <td>4.15</td>\n",
       "      <td>5200</td>\n",
       "      <td>0</td>\n",
       "      <td>0</td>\n",
       "      <td>0</td>\n",
       "      <td>0</td>\n",
       "    </tr>\n",
       "    <tr>\n",
       "      <th>4</th>\n",
       "      <td>swift</td>\n",
       "      <td>2014</td>\n",
       "      <td>4.60</td>\n",
       "      <td>6.87</td>\n",
       "      <td>42450</td>\n",
       "      <td>1</td>\n",
       "      <td>0</td>\n",
       "      <td>0</td>\n",
       "      <td>0</td>\n",
       "    </tr>\n",
       "  </tbody>\n",
       "</table>\n",
       "</div>"
      ],
      "text/plain": [
       "  Car_Name  Year  Selling_Price  Present_Price  Kms_Driven  Fuel_Type  \\\n",
       "0     ritz  2014           3.35           5.59       27000          0   \n",
       "1      sx4  2013           4.75           9.54       43000          1   \n",
       "2     ciaz  2017           7.25           9.85        6900          0   \n",
       "3  wagon r  2011           2.85           4.15        5200          0   \n",
       "4    swift  2014           4.60           6.87       42450          1   \n",
       "\n",
       "   Seller_Type  Transmission  Owner  \n",
       "0            0             0      0  \n",
       "1            0             0      0  \n",
       "2            0             0      0  \n",
       "3            0             0      0  \n",
       "4            0             0      0  "
      ]
     },
     "execution_count": 16,
     "metadata": {},
     "output_type": "execute_result"
    }
   ],
   "source": [
    "df.head()"
   ]
  },
  {
   "cell_type": "code",
   "execution_count": 18,
   "id": "727eea2b",
   "metadata": {},
   "outputs": [],
   "source": [
    "x=df.drop(['Car_Name','Selling_Price'],axis=1)"
   ]
  },
  {
   "cell_type": "code",
   "execution_count": 19,
   "id": "e2961fca",
   "metadata": {},
   "outputs": [],
   "source": [
    "y=df['Selling_Price']"
   ]
  },
  {
   "cell_type": "code",
   "execution_count": 21,
   "id": "2f6a7c20",
   "metadata": {},
   "outputs": [],
   "source": [
    "x_train,x_test,y_train,y_test=train_test_split(x,y,test_size=0.1,random_state=2)"
   ]
  },
  {
   "cell_type": "code",
   "execution_count": 22,
   "id": "7f03638d",
   "metadata": {},
   "outputs": [],
   "source": [
    "reg=LinearRegression()"
   ]
  },
  {
   "cell_type": "code",
   "execution_count": 23,
   "id": "47af4933",
   "metadata": {},
   "outputs": [
    {
     "data": {
      "text/html": [
       "<style>#sk-container-id-1 {color: black;background-color: white;}#sk-container-id-1 pre{padding: 0;}#sk-container-id-1 div.sk-toggleable {background-color: white;}#sk-container-id-1 label.sk-toggleable__label {cursor: pointer;display: block;width: 100%;margin-bottom: 0;padding: 0.3em;box-sizing: border-box;text-align: center;}#sk-container-id-1 label.sk-toggleable__label-arrow:before {content: \"▸\";float: left;margin-right: 0.25em;color: #696969;}#sk-container-id-1 label.sk-toggleable__label-arrow:hover:before {color: black;}#sk-container-id-1 div.sk-estimator:hover label.sk-toggleable__label-arrow:before {color: black;}#sk-container-id-1 div.sk-toggleable__content {max-height: 0;max-width: 0;overflow: hidden;text-align: left;background-color: #f0f8ff;}#sk-container-id-1 div.sk-toggleable__content pre {margin: 0.2em;color: black;border-radius: 0.25em;background-color: #f0f8ff;}#sk-container-id-1 input.sk-toggleable__control:checked~div.sk-toggleable__content {max-height: 200px;max-width: 100%;overflow: auto;}#sk-container-id-1 input.sk-toggleable__control:checked~label.sk-toggleable__label-arrow:before {content: \"▾\";}#sk-container-id-1 div.sk-estimator input.sk-toggleable__control:checked~label.sk-toggleable__label {background-color: #d4ebff;}#sk-container-id-1 div.sk-label input.sk-toggleable__control:checked~label.sk-toggleable__label {background-color: #d4ebff;}#sk-container-id-1 input.sk-hidden--visually {border: 0;clip: rect(1px 1px 1px 1px);clip: rect(1px, 1px, 1px, 1px);height: 1px;margin: -1px;overflow: hidden;padding: 0;position: absolute;width: 1px;}#sk-container-id-1 div.sk-estimator {font-family: monospace;background-color: #f0f8ff;border: 1px dotted black;border-radius: 0.25em;box-sizing: border-box;margin-bottom: 0.5em;}#sk-container-id-1 div.sk-estimator:hover {background-color: #d4ebff;}#sk-container-id-1 div.sk-parallel-item::after {content: \"\";width: 100%;border-bottom: 1px solid gray;flex-grow: 1;}#sk-container-id-1 div.sk-label:hover label.sk-toggleable__label {background-color: #d4ebff;}#sk-container-id-1 div.sk-serial::before {content: \"\";position: absolute;border-left: 1px solid gray;box-sizing: border-box;top: 0;bottom: 0;left: 50%;z-index: 0;}#sk-container-id-1 div.sk-serial {display: flex;flex-direction: column;align-items: center;background-color: white;padding-right: 0.2em;padding-left: 0.2em;position: relative;}#sk-container-id-1 div.sk-item {position: relative;z-index: 1;}#sk-container-id-1 div.sk-parallel {display: flex;align-items: stretch;justify-content: center;background-color: white;position: relative;}#sk-container-id-1 div.sk-item::before, #sk-container-id-1 div.sk-parallel-item::before {content: \"\";position: absolute;border-left: 1px solid gray;box-sizing: border-box;top: 0;bottom: 0;left: 50%;z-index: -1;}#sk-container-id-1 div.sk-parallel-item {display: flex;flex-direction: column;z-index: 1;position: relative;background-color: white;}#sk-container-id-1 div.sk-parallel-item:first-child::after {align-self: flex-end;width: 50%;}#sk-container-id-1 div.sk-parallel-item:last-child::after {align-self: flex-start;width: 50%;}#sk-container-id-1 div.sk-parallel-item:only-child::after {width: 0;}#sk-container-id-1 div.sk-dashed-wrapped {border: 1px dashed gray;margin: 0 0.4em 0.5em 0.4em;box-sizing: border-box;padding-bottom: 0.4em;background-color: white;}#sk-container-id-1 div.sk-label label {font-family: monospace;font-weight: bold;display: inline-block;line-height: 1.2em;}#sk-container-id-1 div.sk-label-container {text-align: center;}#sk-container-id-1 div.sk-container {/* jupyter's `normalize.less` sets `[hidden] { display: none; }` but bootstrap.min.css set `[hidden] { display: none !important; }` so we also need the `!important` here to be able to override the default hidden behavior on the sphinx rendered scikit-learn.org. See: https://github.com/scikit-learn/scikit-learn/issues/21755 */display: inline-block !important;position: relative;}#sk-container-id-1 div.sk-text-repr-fallback {display: none;}</style><div id=\"sk-container-id-1\" class=\"sk-top-container\"><div class=\"sk-text-repr-fallback\"><pre>LinearRegression()</pre><b>In a Jupyter environment, please rerun this cell to show the HTML representation or trust the notebook. <br />On GitHub, the HTML representation is unable to render, please try loading this page with nbviewer.org.</b></div><div class=\"sk-container\" hidden><div class=\"sk-item\"><div class=\"sk-estimator sk-toggleable\"><input class=\"sk-toggleable__control sk-hidden--visually\" id=\"sk-estimator-id-1\" type=\"checkbox\" checked><label for=\"sk-estimator-id-1\" class=\"sk-toggleable__label sk-toggleable__label-arrow\">LinearRegression</label><div class=\"sk-toggleable__content\"><pre>LinearRegression()</pre></div></div></div></div></div>"
      ],
      "text/plain": [
       "LinearRegression()"
      ]
     },
     "execution_count": 23,
     "metadata": {},
     "output_type": "execute_result"
    }
   ],
   "source": [
    "reg.fit(x_train,y_train)"
   ]
  },
  {
   "cell_type": "code",
   "execution_count": 34,
   "id": "131fe844",
   "metadata": {},
   "outputs": [
    {
     "data": {
      "text/plain": [
       "array([ 3.73088505e+00,  5.60702081e+00,  7.79779356e+00, -1.88374756e+00,\n",
       "        6.71614572e+00,  8.14343296e+00,  5.84067525e+00,  6.17919527e+00,\n",
       "        6.15863751e+00,  1.59459051e+01,  2.15385926e+00,  1.11618544e+00,\n",
       "       -4.05463414e-01,  6.69051516e+00,  6.81961414e+00,  1.02957394e+00,\n",
       "        6.74306974e+00,  1.43864300e+01,  3.00001893e+00,  7.95149024e+00,\n",
       "       -8.38569413e-01,  9.02067892e+00,  1.21210550e+00,  2.20040027e+00,\n",
       "       -8.23744275e-01,  7.52651502e-01,  1.00142469e+01, -4.08950275e-01,\n",
       "       -2.40418357e+00,  9.99845989e+00,  6.81867179e+00,  1.09249928e+00,\n",
       "        4.36158792e+00,  9.20660480e-02,  3.48993776e+00,  2.78147834e+00,\n",
       "        1.50401026e+00,  4.65736158e-01,  1.68679810e+00,  1.18722506e+00,\n",
       "        4.32936153e+00,  6.09932798e+00,  9.51639926e-01,  7.52875828e-01,\n",
       "        6.05967594e+00,  3.49453005e+00,  2.40969246e+00,  7.52230513e+00,\n",
       "        4.63113915e+00,  4.44239322e+00,  4.22460259e+00,  2.71077171e+00,\n",
       "        4.46881874e+00,  1.76156730e+00,  2.86100050e-01,  3.95181249e+00,\n",
       "        1.36371845e+00,  4.63046605e+00,  1.44343122e+00,  7.27550233e+00,\n",
       "        7.26488044e+00,  6.54659602e+00,  2.36324853e+00,  2.19217418e+01,\n",
       "        2.16319930e+00,  5.66076848e+00,  2.80906060e+00,  7.49802869e+00,\n",
       "        5.62886682e+00,  9.98314981e+00,  2.06830269e+00,  2.39461488e+00,\n",
       "        1.25697170e+00,  2.48624712e+00,  9.87503255e+00,  1.99829124e+00,\n",
       "       -5.95850149e-01,  5.42977049e+00,  1.14801568e+01,  7.23519617e-02,\n",
       "        1.16970906e+00,  1.59303454e+00,  5.41364480e+00,  1.41557179e+00,\n",
       "        7.74504567e+00,  1.84083793e+01,  2.58142127e+00,  2.07186281e-01,\n",
       "        1.89736367e+00,  9.26780904e+00,  3.99021820e+00,  7.07156998e+00,\n",
       "        1.68502818e+01,  1.02685111e+01,  3.68136662e+00,  1.50064476e+00,\n",
       "        4.31232923e+00, -4.34880981e-01,  1.71285667e+00,  8.27991453e+00,\n",
       "        1.14683904e+00,  7.50346268e+00, -2.04666325e+00,  8.30146254e-01,\n",
       "        7.26854735e+00,  8.02021894e+00,  7.36905488e+00, -3.79414332e+00,\n",
       "        3.75525897e+00,  8.25695012e+00,  3.51472306e+00,  2.53338755e+00,\n",
       "        4.16232248e+00, -3.24088512e+00,  5.18615085e+00,  1.85821266e+00,\n",
       "        3.49278787e+00,  7.72803450e+00, -2.72911676e-02,  1.85585877e+00,\n",
       "        1.61750191e+00,  1.86723050e+00,  3.44019213e+00, -2.61256990e+00,\n",
       "        2.83571040e-01,  6.47077845e+00,  6.81795378e+00,  1.27856366e+00,\n",
       "        1.98246558e+00,  7.77746593e+00,  3.99027153e+00,  7.11781878e-01,\n",
       "        7.91403394e+00,  6.23267855e+00,  1.28756708e+00, -1.96729056e+00,\n",
       "        5.28552207e+00,  6.04550694e+00,  5.16190178e+00,  4.22971237e+00,\n",
       "        9.51891054e-01,  7.35166727e+00,  4.01818932e+00, -1.04710559e+00,\n",
       "        1.09156146e+01,  4.39667870e+00,  2.86984918e+00,  1.91986725e+00,\n",
       "        4.96862623e+00,  4.77936928e+00,  4.25092177e+00,  1.71053421e+01,\n",
       "       -1.07199613e+00,  1.26451025e+00,  5.21327300e+00,  2.12348337e+00,\n",
       "        5.99165891e+00,  3.40807255e+00,  4.80827934e+00,  3.38918116e+00,\n",
       "        5.13795684e-01,  4.44055098e+00,  2.00903744e+01,  3.83901354e+00,\n",
       "        4.53066612e+00,  2.19632384e+00,  2.97882688e+00,  1.63013254e-01,\n",
       "        7.45166142e+00, -9.64114771e-01,  2.07084616e+01,  1.48302952e-01,\n",
       "        7.67297383e+00,  1.97138512e+00,  1.58318918e+00,  8.59464322e+00,\n",
       "        2.03394215e+01,  3.12384360e+00,  4.48104068e+00,  5.12059119e+00,\n",
       "        4.44820127e+00,  6.32711743e+00,  6.14313782e+00,  1.63379307e+00,\n",
       "        4.86593391e-01,  7.15580082e+00,  8.19411548e+00,  2.20656869e+00,\n",
       "       -3.00310326e+00,  4.28862263e+00,  4.26053193e+00,  5.13714273e+00,\n",
       "       -3.42194582e-01,  6.40060227e+00,  4.40377318e+00,  8.20122236e+00,\n",
       "        8.08394337e-01,  1.09158807e+01,  5.67433085e+00, -9.84515513e-01,\n",
       "        6.41897928e+00,  5.08269665e+00,  6.91554730e+00,  4.93883063e+00,\n",
       "        5.77578402e+00,  2.12723538e+00,  2.52675517e+00,  4.89440672e+00,\n",
       "        3.15266181e+00, -1.52384175e+00,  4.17949082e+01,  5.81924561e+00,\n",
       "        5.14055580e+00,  3.92237207e-01,  9.05432721e+00,  6.56459921e+00,\n",
       "        7.18219701e+00,  1.66366108e+00,  7.11473745e+00,  9.07935482e+00,\n",
       "        4.46753893e+00,  3.36303450e+00,  6.35490979e+00,  6.55934903e+00,\n",
       "        1.66016819e+01,  9.39027813e+00,  6.26564147e+00, -1.43439660e-01,\n",
       "        2.55568656e+00,  2.97505284e+00,  5.85941753e+00,  5.06592497e+00,\n",
       "        9.32375818e-01,  8.13064209e+00,  5.75158168e+00,  7.71554069e+00,\n",
       "        2.18559206e+00,  1.67445579e+01,  4.87739901e+00,  1.46396860e+01,\n",
       "        1.05280516e+01,  2.12054166e+00, -5.25492431e-02,  9.93653139e+00,\n",
       "       -3.52247643e+00,  3.49678260e+00,  2.73531683e+00,  3.41170538e+00,\n",
       "        7.39379673e+00,  3.96888732e+00,  1.84083793e+01,  8.15712083e+00,\n",
       "        2.54637150e+00,  8.78314015e-01,  6.36747996e-01,  5.77461943e-01,\n",
       "        4.35596477e-01,  5.38888735e+00,  6.47934817e+00, -3.23943162e-01,\n",
       "        3.10622023e+00,  9.01067339e+00,  8.42951569e+00,  8.19695422e-02,\n",
       "        5.65761124e+00,  4.71872253e+00,  5.02500936e+00,  8.94663115e+00,\n",
       "        8.59464322e+00,  3.94153678e-01])"
      ]
     },
     "execution_count": 34,
     "metadata": {},
     "output_type": "execute_result"
    }
   ],
   "source": [
    "train_predicetion=reg.predict(x_train)\n",
    "train_predicetion"
   ]
  },
  {
   "cell_type": "code",
   "execution_count": 35,
   "id": "1aae39ea",
   "metadata": {},
   "outputs": [
    {
     "data": {
      "text/plain": [
       "0.8799451660493715"
      ]
     },
     "execution_count": 35,
     "metadata": {},
     "output_type": "execute_result"
    }
   ],
   "source": [
    "train_score=metrics.r2_score(y_train,train_predicetion)\n",
    "train_score"
   ]
  },
  {
   "cell_type": "code",
   "execution_count": 39,
   "id": "dc4e720a",
   "metadata": {},
   "outputs": [
    {
     "data": {
      "image/png": "[encoded data removed]",
      "text/plain": [
       "<Figure size 640x480 with 1 Axes>"
      ]
     },
     "metadata": {},
     "output_type": "display_data"
    }
   ],
   "source": [
    "plt.scatter(train_predicetion,y_train)\n",
    "plt.xlabel(\"Actual Price\")\n",
    "plt.ylabel(\"Predicted Price\")\n",
    "plt.title(\" Actual Prices vs Predicted Prices\")\n",
    "plt.show()\n"
   ]
  },
  {
   "cell_type": "code",
   "execution_count": 40,
   "id": "5aa9db4d",
   "metadata": {},
   "outputs": [],
   "source": [
    "test_data_predicetion=reg.predict(x_test)"
   ]
  },
  {
   "cell_type": "code",
   "execution_count": 42,
   "id": "3a373dc4",
   "metadata": {},
   "outputs": [
    {
     "data": {
      "image/png": "[encoded data removed]",
      "text/plain": [
       "<Figure size 640x480 with 1 Axes>"
      ]
     },
     "metadata": {},
     "output_type": "display_data"
    }
   ],
   "source": [
    "plt.scatter(test_data_predicetion,y_test)\n",
    "plt.xlabel(\"Actual Price\")\n",
    "plt.ylabel(\"Predicted Price\")\n",
    "plt.title(\" Actual Prices vs Predicted Prices\")\n",
    "plt.show()"
   ]
  },
  {
   "cell_type": "code",
   "execution_count": 44,
   "id": "79287a65",
   "metadata": {},
   "outputs": [
    {
     "data": {
      "text/plain": [
       "0.8062199941174977"
      ]
     },
     "execution_count": 44,
     "metadata": {},
     "output_type": "execute_result"
    }
   ],
   "source": [
    "error=metrics.r2_score(test_data_predicetion,y_test)\n",
    "error"
   ]
  },
  {
   "cell_type": "markdown",
   "id": "111d1894",
   "metadata": {},
   "source": [
    "# Lasso_regression"
   ]
  },
  {
   "cell_type": "code",
   "execution_count": 45,
   "id": "272b235a",
   "metadata": {},
   "outputs": [],
   "source": [
    "le=Lasso()"
   ]
  },
  {
   "cell_type": "code",
   "execution_count": 46,
   "id": "919499f6",
   "metadata": {},
   "outputs": [
    {
     "data": {
      "text/html": [
       "<style>#sk-container-id-2 {color: black;background-color: white;}#sk-container-id-2 pre{padding: 0;}#sk-container-id-2 div.sk-toggleable {background-color: white;}#sk-container-id-2 label.sk-toggleable__label {cursor: pointer;display: block;width: 100%;margin-bottom: 0;padding: 0.3em;box-sizing: border-box;text-align: center;}#sk-container-id-2 label.sk-toggleable__label-arrow:before {content: \"▸\";float: left;margin-right: 0.25em;color: #696969;}#sk-container-id-2 label.sk-toggleable__label-arrow:hover:before {color: black;}#sk-container-id-2 div.sk-estimator:hover label.sk-toggleable__label-arrow:before {color: black;}#sk-container-id-2 div.sk-toggleable__content {max-height: 0;max-width: 0;overflow: hidden;text-align: left;background-color: #f0f8ff;}#sk-container-id-2 div.sk-toggleable__content pre {margin: 0.2em;color: black;border-radius: 0.25em;background-color: #f0f8ff;}#sk-container-id-2 input.sk-toggleable__control:checked~div.sk-toggleable__content {max-height: 200px;max-width: 100%;overflow: auto;}#sk-container-id-2 input.sk-toggleable__control:checked~label.sk-toggleable__label-arrow:before {content: \"▾\";}#sk-container-id-2 div.sk-estimator input.sk-toggleable__control:checked~label.sk-toggleable__label {background-color: #d4ebff;}#sk-container-id-2 div.sk-label input.sk-toggleable__control:checked~label.sk-toggleable__label {background-color: #d4ebff;}#sk-container-id-2 input.sk-hidden--visually {border: 0;clip: rect(1px 1px 1px 1px);clip: rect(1px, 1px, 1px, 1px);height: 1px;margin: -1px;overflow: hidden;padding: 0;position: absolute;width: 1px;}#sk-container-id-2 div.sk-estimator {font-family: monospace;background-color: #f0f8ff;border: 1px dotted black;border-radius: 0.25em;box-sizing: border-box;margin-bottom: 0.5em;}#sk-container-id-2 div.sk-estimator:hover {background-color: #d4ebff;}#sk-container-id-2 div.sk-parallel-item::after {content: \"\";width: 100%;border-bottom: 1px solid gray;flex-grow: 1;}#sk-container-id-2 div.sk-label:hover label.sk-toggleable__label {background-color: #d4ebff;}#sk-container-id-2 div.sk-serial::before {content: \"\";position: absolute;border-left: 1px solid gray;box-sizing: border-box;top: 0;bottom: 0;left: 50%;z-index: 0;}#sk-container-id-2 div.sk-serial {display: flex;flex-direction: column;align-items: center;background-color: white;padding-right: 0.2em;padding-left: 0.2em;position: relative;}#sk-container-id-2 div.sk-item {position: relative;z-index: 1;}#sk-container-id-2 div.sk-parallel {display: flex;align-items: stretch;justify-content: center;background-color: white;position: relative;}#sk-container-id-2 div.sk-item::before, #sk-container-id-2 div.sk-parallel-item::before {content: \"\";position: absolute;border-left: 1px solid gray;box-sizing: border-box;top: 0;bottom: 0;left: 50%;z-index: -1;}#sk-container-id-2 div.sk-parallel-item {display: flex;flex-direction: column;z-index: 1;position: relative;background-color: white;}#sk-container-id-2 div.sk-parallel-item:first-child::after {align-self: flex-end;width: 50%;}#sk-container-id-2 div.sk-parallel-item:last-child::after {align-self: flex-start;width: 50%;}#sk-container-id-2 div.sk-parallel-item:only-child::after {width: 0;}#sk-container-id-2 div.sk-dashed-wrapped {border: 1px dashed gray;margin: 0 0.4em 0.5em 0.4em;box-sizing: border-box;padding-bottom: 0.4em;background-color: white;}#sk-container-id-2 div.sk-label label {font-family: monospace;font-weight: bold;display: inline-block;line-height: 1.2em;}#sk-container-id-2 div.sk-label-container {text-align: center;}#sk-container-id-2 div.sk-container {/* jupyter's `normalize.less` sets `[hidden] { display: none; }` but bootstrap.min.css set `[hidden] { display: none !important; }` so we also need the `!important` here to be able to override the default hidden behavior on the sphinx rendered scikit-learn.org. See: https://github.com/scikit-learn/scikit-learn/issues/21755 */display: inline-block !important;position: relative;}#sk-container-id-2 div.sk-text-repr-fallback {display: none;}</style><div id=\"sk-container-id-2\" class=\"sk-top-container\"><div class=\"sk-text-repr-fallback\"><pre>Lasso()</pre><b>In a Jupyter environment, please rerun this cell to show the HTML representation or trust the notebook. <br />On GitHub, the HTML representation is unable to render, please try loading this page with nbviewer.org.</b></div><div class=\"sk-container\" hidden><div class=\"sk-item\"><div class=\"sk-estimator sk-toggleable\"><input class=\"sk-toggleable__control sk-hidden--visually\" id=\"sk-estimator-id-2\" type=\"checkbox\" checked><label for=\"sk-estimator-id-2\" class=\"sk-toggleable__label sk-toggleable__label-arrow\">Lasso</label><div class=\"sk-toggleable__content\"><pre>Lasso()</pre></div></div></div></div></div>"
      ],
      "text/plain": [
       "Lasso()"
      ]
     },
     "execution_count": 46,
     "metadata": {},
     "output_type": "execute_result"
    }
   ],
   "source": [
    "le.fit(x_train,y_train)"
   ]
  },
  {
   "cell_type": "code",
   "execution_count": 47,
   "id": "4f512e1e",
   "metadata": {},
   "outputs": [
    {
     "data": {
      "text/plain": [
       "array([ 3.56679076e+00,  5.60257564e+00,  8.28781371e+00, -8.30814314e-01,\n",
       "        5.27539880e+00,  6.50367937e+00,  5.73552938e+00,  6.41187200e+00,\n",
       "        4.78218845e+00,  1.54979701e+01,  2.60868685e+00,  1.68164537e+00,\n",
       "        4.65587149e-01,  5.14260426e+00,  6.87569869e+00,  1.60372469e+00,\n",
       "        5.30299396e+00,  1.39150016e+01,  2.86877663e+00,  6.44421824e+00,\n",
       "        9.38523430e-02,  9.99955865e+00,  1.79683394e+00,  2.66121014e+00,\n",
       "        2.10269105e-02,  1.39327221e+00,  1.01152846e+01,  4.55985698e-01,\n",
       "       -1.29850564e+00,  8.96458834e+00,  6.87473286e+00,  2.80689227e+00,\n",
       "        4.00679563e+00,  8.93707044e-01,  3.11243615e+00,  2.61344453e+00,\n",
       "        2.13519495e+00,  1.21115483e+00,  2.20395877e+00,  1.77253883e+00,\n",
       "        4.40123646e+00,  4.26379158e+00,  1.53108120e+00,  2.67410546e+00,\n",
       "        4.37186991e+00,  2.41613935e+00,  2.90706331e+00,  6.07491388e+00,\n",
       "        5.02364608e+00,  4.39669701e+00,  3.59203190e+00,  2.67643327e+00,\n",
       "        4.41172590e+00,  2.31675779e+00,  1.01438277e+00,  3.68609748e+00,\n",
       "        1.50265941e+00,  5.02295620e+00,  2.07310584e+00,  6.19074097e+00,\n",
       "        7.81981153e+00,  5.36371710e+00,  2.85946166e+00,  2.06195353e+01,\n",
       "        2.59676625e+00,  5.67574611e+00,  3.19801234e+00,  3.85355694e+00,\n",
       "        9.55121958e+00,  8.49791815e+00,  2.51738099e+00,  2.54374604e+00,\n",
       "        1.74412943e+00,  2.99336224e+00,  8.53160523e+00,  2.11403521e+00,\n",
       "        9.85877109e-01,  4.06172992e+00,  1.24243960e+01,  8.63857265e-01,\n",
       "        1.73710595e+00,  1.50535303e+00,  5.51391821e+00,  1.91090236e+00,\n",
       "        6.46820023e+00,  1.68362291e+01,  3.10416970e+00,  9.08788441e-01,\n",
       "        2.44750046e+00,  7.52561203e+00,  4.72686803e+00,  7.16105963e+00,\n",
       "        1.54738775e+01,  9.81695769e+00,  3.76103478e+00,  2.13174555e+00,\n",
       "        4.23928018e+00,  3.24691839e-01,  2.37516632e+00,  8.70375762e+00,\n",
       "        1.73114609e+00,  7.79945286e+00, -1.13832831e+00,  1.49379554e+00,\n",
       "        8.51653128e+00,  8.43758853e+00,  5.75926034e+00, -2.30786281e+00,\n",
       "        4.45696039e+00,  7.19764119e+00,  2.43683571e+00,  2.57402797e+00,\n",
       "        4.09758952e+00, -2.00027661e+00,  5.25604000e+00,  2.35875554e+00,\n",
       "        3.69959657e+00,  8.90505781e+00,  7.60524770e-01,  2.39953606e+00,\n",
       "        2.11786604e+00,  2.56171833e+00,  4.07376307e+00, -6.84111217e-01,\n",
       "        9.86474496e-01,  6.47597378e+00,  5.38818340e+00,  1.87278469e+00,\n",
       "        2.54919014e+00,  8.26697936e+00,  4.89131341e+00,  1.48141681e+00,\n",
       "        6.23782093e+00,  4.85807513e+00,  1.95739987e+00, -9.18670058e-01,\n",
       "        5.08094481e+00,  6.10021341e+00,  4.95364023e+00,  3.99985747e+00,\n",
       "        1.75162194e+00,  5.87870552e+00,  4.58194546e+00,  5.96745982e-01,\n",
       "        1.08857448e+01,  4.48228701e+00,  2.86840894e+00,  2.48503140e+00,\n",
       "        4.85001658e+00,  4.79632201e+00,  4.02159556e+00,  1.50296762e+01,\n",
       "       -1.71914820e-01,  1.84572285e+00,  5.01231967e+00,  2.71060060e+00,\n",
       "        6.04502309e+00,  2.85805043e+00,  4.83800806e+00,  4.55728445e+00,\n",
       "       -9.09287171e-02,  4.51519756e+00,  1.89608272e+01,  3.82573060e+00,\n",
       "        5.38349618e+00,  2.79249000e+00,  1.96939272e+00,  8.59294931e-01,\n",
       "        5.87285886e+00, -3.54252858e-02,  1.95161266e+01,  1.04722720e+00,\n",
       "        8.15988256e+00,  2.40177281e+00,  2.10017824e+00,  7.04992171e+00,\n",
       "        1.92160824e+01,  2.11621602e+00,  4.17925569e+00,  5.47724216e+00,\n",
       "        4.37853915e+00,  6.29256565e+00,  4.50141427e+00,  2.15807121e+00,\n",
       "        1.24880669e+00,  6.64084846e+00,  6.71760492e+00,  2.32750446e+00,\n",
       "       -1.82391271e+00,  4.21498265e+00,  4.75816168e+00,  5.49420629e+00,\n",
       "        5.16931116e-01,  7.09881804e+00,  4.48955833e+00,  8.62310387e+00,\n",
       "        1.45926524e+00,  1.16310309e+01,  5.67156354e+00,  7.06845952e-02,\n",
       "        5.04901982e+00,  5.14940420e+00,  5.22995197e+00,  4.81525889e+00,\n",
       "        6.53661979e+00,  2.57959101e+00,  2.57747729e+00,  4.93050173e+00,\n",
       "        3.57911142e+00,  1.86321101e-01,  4.64781871e+01,  4.11881586e+00,\n",
       "        3.58140650e+00,  1.11092946e+00,  1.00340457e+01,  4.96110883e+00,\n",
       "        5.68835346e+00,  2.18446439e+00,  7.80921976e+00,  7.76354731e+00,\n",
       "        4.56274957e+00,  3.43295920e+00,  4.71183470e+00,  4.95572777e+00,\n",
       "        1.45916562e+01,  8.10452348e+00,  4.76385516e+00, -6.04540511e-01,\n",
       "        2.75223204e+00,  2.95875479e+00,  6.04795704e+00,  3.36101870e+00,\n",
       "        1.61123152e+00,  6.66783862e+00,  4.16947133e+00,  8.20351050e+00,\n",
       "        2.64603280e+00,  1.53655182e+01,  5.19784951e+00,  1.21638029e+01,\n",
       "        9.27865919e+00,  2.25681325e+00,  8.54423030e-01,  8.74456138e+00,\n",
       "       -4.07142405e+00,  3.58089109e+00,  2.83644537e+00,  4.35662889e+00,\n",
       "        5.92489898e+00,  3.69214536e+00,  1.68362291e+01,  8.57790301e+00,\n",
       "        3.06583517e+00,  1.42458358e+00,  1.28472659e+00,  1.34194034e+00,\n",
       "        1.29161106e+00,  5.64389284e+00,  5.02387715e+00,  9.77644039e-02,\n",
       "        3.38158787e+00,  7.52514652e+00,  9.47185435e+00,  8.83358860e-01,\n",
       "        5.66045482e+00,  4.72210816e+00,  3.87680683e+00,  9.92366507e+00,\n",
       "        7.04992171e+00,  1.10945793e+00])"
      ]
     },
     "execution_count": 47,
     "metadata": {},
     "output_type": "execute_result"
    }
   ],
   "source": [
    "train_predicetion=le.predict(x_train)\n",
    "train_predicetion"
   ]
  },
  {
   "cell_type": "code",
   "execution_count": 48,
   "id": "42cb92d6",
   "metadata": {},
   "outputs": [
    {
     "data": {
      "text/plain": [
       "0.8427856123435794"
      ]
     },
     "execution_count": 48,
     "metadata": {},
     "output_type": "execute_result"
    }
   ],
   "source": [
    "train_score=metrics.r2_score(y_train,train_predicetion)\n",
    "train_score"
   ]
  },
  {
   "cell_type": "code",
   "execution_count": 49,
   "id": "c86c9c2f",
   "metadata": {},
   "outputs": [
    {
     "data": {
      "image/png": "[encoded data removed]",
      "text/plain": [
       "<Figure size 640x480 with 1 Axes>"
      ]
     },
     "metadata": {},
     "output_type": "display_data"
    }
   ],
   "source": [
    "plt.scatter(train_predicetion,y_train)\n",
    "plt.xlabel(\"Actual Price\")\n",
    "plt.ylabel(\"Predicted Price\")\n",
    "plt.title(\" Actual Prices vs Predicted Prices\")\n",
    "plt.show()"
   ]
  },
  {
   "cell_type": "code",
   "execution_count": null,
   "id": "609b799e",
   "metadata": {},
   "outputs": [],
   "source": [
    "test_data_predicetion=reg.predict(x_test)"
   ]
  },
  {
   "cell_type": "code",
   "execution_count": null,
   "id": "43e51390",
   "metadata": {},
   "outputs": [],
   "source": []
  },
  {
   "cell_type": "code",
   "execution_count": null,
   "id": "04b99524",
   "metadata": {},
   "outputs": [],
   "source": []
  }
 ],
 "metadata": {
  "kernelspec": {
   "display_name": "Python 3 (ipykernel)",
   "language": "python",
   "name": "python3"
  },
  "language_info": {
   "codemirror_mode": {
    "name": "ipython",
    "version": 3
   },
   "file_extension": ".py",
   "mimetype": "text/x-python",
   "name": "python",
   "nbconvert_exporter": "python",
   "pygments_lexer": "ipython3",
   "version": "3.10.9"
  }
 },
 "nbformat": 4,
 "nbformat_minor": 5
}
